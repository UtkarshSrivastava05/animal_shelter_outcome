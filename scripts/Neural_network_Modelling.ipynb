{
 "cells": [
  {
   "cell_type": "code",
   "execution_count": 3,
   "id": "207beddc",
   "metadata": {},
   "outputs": [],
   "source": [
    "# Importing the neccessary libraries\n",
    "import numpy as np\n",
    "import pandas as pd\n",
    "import matplotlib.pyplot as plt\n",
    "from itertools import cycle\n",
    "from sklearn.metrics import classification_report, roc_auc_score, roc_curve, auc, RocCurveDisplay, accuracy_score\n",
    "from sklearn.utils.class_weight import compute_class_weight\n",
    "from sklearn.model_selection import cross_val_score\n",
    "from sklearn.preprocessing import label_binarize, LabelBinarizer\n",
    "\n",
    "\n",
    "import tensorflow as tf\n",
    "from tensorflow.keras.utils import plot_model\n",
    "from tensorflow.keras.models import Model\n",
    "from tensorflow.keras.layers import Input\n",
    "from tensorflow.keras.layers import Dense,Dropout\n",
    "from tensorflow.keras.models import Sequential\n",
    "\n",
    "from tensorflow.keras.wrappers.scikit_learn import KerasClassifier\n",
    "from sklearn.model_selection import StratifiedKFold\n",
    "from sklearn.model_selection import cross_val_score\n",
    "from sklearn.metrics import confusion_matrix\n",
    "from sklearn.model_selection import KFold\n",
    "\n",
    "\n",
    "import keras_tuner"
   ]
  },
  {
   "cell_type": "markdown",
   "id": "72ccde33",
   "metadata": {},
   "source": [
    "## Reading the data"
   ]
  },
  {
   "cell_type": "code",
   "execution_count": 4,
   "id": "eda9efba",
   "metadata": {},
   "outputs": [
    {
     "data": {
      "text/html": [
       "<div>\n",
       "<style scoped>\n",
       "    .dataframe tbody tr th:only-of-type {\n",
       "        vertical-align: middle;\n",
       "    }\n",
       "\n",
       "    .dataframe tbody tr th {\n",
       "        vertical-align: top;\n",
       "    }\n",
       "\n",
       "    .dataframe thead th {\n",
       "        text-align: right;\n",
       "    }\n",
       "</style>\n",
       "<table border=\"1\" class=\"dataframe\">\n",
       "  <thead>\n",
       "    <tr style=\"text-align: right;\">\n",
       "      <th></th>\n",
       "      <th>type</th>\n",
       "      <th>breed</th>\n",
       "      <th>color</th>\n",
       "      <th>sex</th>\n",
       "      <th>size</th>\n",
       "      <th>intake_type</th>\n",
       "      <th>intake_subtype</th>\n",
       "      <th>intake_condition</th>\n",
       "      <th>intake_jurisdiction</th>\n",
       "      <th>intake_total</th>\n",
       "      <th>age</th>\n",
       "      <th>intake_date</th>\n",
       "      <th>days_in_shelter</th>\n",
       "      <th>has_name</th>\n",
       "      <th>outcome_type</th>\n",
       "    </tr>\n",
       "  </thead>\n",
       "  <tbody>\n",
       "    <tr>\n",
       "      <th>0</th>\n",
       "      <td>1</td>\n",
       "      <td>650</td>\n",
       "      <td>293</td>\n",
       "      <td>3</td>\n",
       "      <td>5</td>\n",
       "      <td>6</td>\n",
       "      <td>3</td>\n",
       "      <td>3</td>\n",
       "      <td>11</td>\n",
       "      <td>1</td>\n",
       "      <td>2</td>\n",
       "      <td>1688515200</td>\n",
       "      <td>34</td>\n",
       "      <td>1</td>\n",
       "      <td>ADOPTION</td>\n",
       "    </tr>\n",
       "    <tr>\n",
       "      <th>1</th>\n",
       "      <td>0</td>\n",
       "      <td>409</td>\n",
       "      <td>218</td>\n",
       "      <td>3</td>\n",
       "      <td>0</td>\n",
       "      <td>6</td>\n",
       "      <td>20</td>\n",
       "      <td>3</td>\n",
       "      <td>9</td>\n",
       "      <td>1</td>\n",
       "      <td>0</td>\n",
       "      <td>1685404800</td>\n",
       "      <td>70</td>\n",
       "      <td>1</td>\n",
       "      <td>ADOPTION</td>\n",
       "    </tr>\n",
       "    <tr>\n",
       "      <th>2</th>\n",
       "      <td>0</td>\n",
       "      <td>409</td>\n",
       "      <td>94</td>\n",
       "      <td>0</td>\n",
       "      <td>4</td>\n",
       "      <td>6</td>\n",
       "      <td>20</td>\n",
       "      <td>3</td>\n",
       "      <td>11</td>\n",
       "      <td>1</td>\n",
       "      <td>3</td>\n",
       "      <td>1689379200</td>\n",
       "      <td>24</td>\n",
       "      <td>1</td>\n",
       "      <td>TRANSFER</td>\n",
       "    </tr>\n",
       "    <tr>\n",
       "      <th>3</th>\n",
       "      <td>1</td>\n",
       "      <td>805</td>\n",
       "      <td>293</td>\n",
       "      <td>2</td>\n",
       "      <td>4</td>\n",
       "      <td>6</td>\n",
       "      <td>3</td>\n",
       "      <td>3</td>\n",
       "      <td>11</td>\n",
       "      <td>1</td>\n",
       "      <td>4</td>\n",
       "      <td>1682380800</td>\n",
       "      <td>85</td>\n",
       "      <td>1</td>\n",
       "      <td>ADOPTION</td>\n",
       "    </tr>\n",
       "    <tr>\n",
       "      <th>4</th>\n",
       "      <td>1</td>\n",
       "      <td>829</td>\n",
       "      <td>153</td>\n",
       "      <td>1</td>\n",
       "      <td>4</td>\n",
       "      <td>6</td>\n",
       "      <td>20</td>\n",
       "      <td>0</td>\n",
       "      <td>9</td>\n",
       "      <td>1</td>\n",
       "      <td>0</td>\n",
       "      <td>1691452800</td>\n",
       "      <td>0</td>\n",
       "      <td>1</td>\n",
       "      <td>RETURN TO OWNER</td>\n",
       "    </tr>\n",
       "  </tbody>\n",
       "</table>\n",
       "</div>"
      ],
      "text/plain": [
       "   type  breed  color  sex  size  intake_type  intake_subtype  \\\n",
       "0     1    650    293    3     5            6               3   \n",
       "1     0    409    218    3     0            6              20   \n",
       "2     0    409     94    0     4            6              20   \n",
       "3     1    805    293    2     4            6               3   \n",
       "4     1    829    153    1     4            6              20   \n",
       "\n",
       "   intake_condition  intake_jurisdiction  intake_total  age  intake_date  \\\n",
       "0                 3                   11             1    2   1688515200   \n",
       "1                 3                    9             1    0   1685404800   \n",
       "2                 3                   11             1    3   1689379200   \n",
       "3                 3                   11             1    4   1682380800   \n",
       "4                 0                    9             1    0   1691452800   \n",
       "\n",
       "   days_in_shelter  has_name     outcome_type  \n",
       "0               34         1         ADOPTION  \n",
       "1               70         1         ADOPTION  \n",
       "2               24         1         TRANSFER  \n",
       "3               85         1         ADOPTION  \n",
       "4                0         1  RETURN TO OWNER  "
      ]
     },
     "execution_count": 4,
     "metadata": {},
     "output_type": "execute_result"
    }
   ],
   "source": [
    "df = pd.read_csv(\"processed_data.csv\")\n",
    "df.head()"
   ]
  },
  {
   "cell_type": "code",
   "execution_count": 5,
   "id": "loving-array",
   "metadata": {},
   "outputs": [
    {
     "data": {
      "text/plain": [
       "Index(['type', 'breed', 'color', 'sex', 'size', 'intake_type',\n",
       "       'intake_subtype', 'intake_condition', 'intake_jurisdiction',\n",
       "       'intake_total', 'age', 'intake_date', 'days_in_shelter', 'has_name',\n",
       "       'outcome_type'],\n",
       "      dtype='object')"
      ]
     },
     "execution_count": 5,
     "metadata": {},
     "output_type": "execute_result"
    }
   ],
   "source": [
    "df.columns"
   ]
  },
  {
   "cell_type": "code",
   "execution_count": 9,
   "id": "adaf6c86",
   "metadata": {},
   "outputs": [
    {
     "data": {
      "text/plain": [
       "RETURN TO OWNER    8606\n",
       "ADOPTION           7533\n",
       "TRANSFER           5439\n",
       "EUTHANIZE          3552\n",
       "DISPOSAL            235\n",
       "DIED                171\n",
       "RTOS                 49\n",
       "ESCAPED/STOLEN       17\n",
       "Name: outcome_type, dtype: int64"
      ]
     },
     "execution_count": 9,
     "metadata": {},
     "output_type": "execute_result"
    }
   ],
   "source": [
    "df['outcome_type'].value_counts()"
   ]
  },
  {
   "cell_type": "markdown",
   "id": "64e30df6",
   "metadata": {},
   "source": [
    "## Splitting the data by the predictor variables and the target variable"
   ]
  },
  {
   "cell_type": "code",
   "execution_count": 10,
   "id": "9c2af0e3",
   "metadata": {},
   "outputs": [],
   "source": [
    "X = df.iloc[:, :-1]\n",
    "y = df.iloc[:, -1]"
   ]
  },
  {
   "cell_type": "markdown",
   "id": "c6d2bc5e",
   "metadata": {},
   "source": [
    "## Splitting the data into train and test sets"
   ]
  },
  {
   "cell_type": "code",
   "execution_count": 17,
   "id": "d9d4f3df",
   "metadata": {},
   "outputs": [],
   "source": [
    "X_train, X_test, y_train, y_test = train_test_split(X, y, test_size=0.2, random_state=42)"
   ]
  },
  {
   "cell_type": "markdown",
   "id": "35654581",
   "metadata": {},
   "source": [
    "# Modelling"
   ]
  },
  {
   "cell_type": "markdown",
   "id": "amino-offering",
   "metadata": {},
   "source": [
    "## Neural Network"
   ]
  },
  {
   "cell_type": "code",
   "execution_count": 25,
   "id": "opening-arbitration",
   "metadata": {},
   "outputs": [],
   "source": [
    "from sklearn.preprocessing import StandardScaler\n",
    "\n",
    "x_scaler = StandardScaler()\n",
    "X_train = x_scaler.fit_transform(X_train)\n",
    "X_test = x_scaler.transform(X_test)"
   ]
  },
  {
   "cell_type": "code",
   "execution_count": 26,
   "id": "modern-rhythm",
   "metadata": {},
   "outputs": [
    {
     "data": {
      "text/plain": [
       "array([[ 0.44506521,  1.06000611, -0.95301818, ...,  0.27339749,\n",
       "        -0.32613948,  0.59627986],\n",
       "       [ 0.44506521,  1.90450591,  0.8994607 , ...,  0.04549128,\n",
       "        -0.06703585,  0.59627986],\n",
       "       [ 0.44506521, -1.42536118, -1.2524087 , ..., -1.43085692,\n",
       "        -0.18219302,  0.59627986],\n",
       "       ...,\n",
       "       [-1.20447886, -0.4145868 , -0.5413562 , ...,  1.14569338,\n",
       "         0.1056999 ,  0.59627986],\n",
       "       [ 0.44506521,  2.14954213,  1.51695365, ...,  0.37424094,\n",
       "        -0.49887523,  0.59627986],\n",
       "       [ 2.09460928, -1.09281203,  1.77892036, ...,  1.82941201,\n",
       "        -0.32613948, -1.67706486]])"
      ]
     },
     "execution_count": 26,
     "metadata": {},
     "output_type": "execute_result"
    }
   ],
   "source": [
    "X_train"
   ]
  },
  {
   "cell_type": "code",
   "execution_count": 21,
   "id": "pending-friendly",
   "metadata": {},
   "outputs": [
    {
     "data": {
      "text/plain": [
       "array([5, 0, 7, ..., 0, 5, 5])"
      ]
     },
     "execution_count": 21,
     "metadata": {},
     "output_type": "execute_result"
    }
   ],
   "source": [
    "# Import label encoder\n",
    "from sklearn import preprocessing\n",
    "  \n",
    "# label_encoder object knows \n",
    "# how to understand word labels.\n",
    "label_encoder = preprocessing.LabelEncoder()\n",
    "  \n",
    "# Encode labels in column 'species'.\n",
    "y_train = label_encoder.fit_transform(y_train)\n",
    "y_test = label_encoder.transform(y_test)\n",
    "y_train"
   ]
  },
  {
   "cell_type": "code",
   "execution_count": 6,
   "id": "adult-holmes",
   "metadata": {},
   "outputs": [],
   "source": [
    "tf.keras.backend.clear_session()\n",
    "\n",
    "loss_function = 'sparse_categorical_crossentropy'\n",
    "optimizer = 'adam'\n",
    "batch_size = 512\n",
    "no_epochs = 10\n",
    "verbosity = 1\n",
    "num_folds = 5"
   ]
  },
  {
   "cell_type": "code",
   "execution_count": 74,
   "id": "convertible-count",
   "metadata": {},
   "outputs": [
    {
     "data": {
      "text/plain": [
       "<tensorflow.python.keras.engine.sequential.Sequential at 0x1ab9b668308>"
      ]
     },
     "execution_count": 74,
     "metadata": {},
     "output_type": "execute_result"
    }
   ],
   "source": [
    "def call_existing_code(units, activation, dropout, lr):\n",
    "    model = Sequential()\n",
    "    \n",
    "    model.add(Dense(units=units*8, input_shape=(14,), activation=activation))\n",
    "    \n",
    "    if dropout:\n",
    "        model.add(Dropout(rate=0.25))\n",
    "\n",
    "    model.add(Dense(units=units*4, activation=activation))\n",
    "    if dropout:\n",
    "        model.add(Dropout(rate=0.25))\n",
    "\n",
    "    model.add(Dense(units=units*2,  activation=activation))\n",
    "    model.add(Dense(units=units, activation=activation))\n",
    "    if dropout:\n",
    "        model.add(Dropout(rate=0.25))\n",
    "        \n",
    "    model.add(Dense(8, activation=\"softmax\"))\n",
    "    \n",
    "    model.compile(\n",
    "        optimizer=tensorflow.keras.optimizers.Adam(learning_rate=lr),\n",
    "        loss=\"sparse_categorical_crossentropy\",\n",
    "        metrics=[\"accuracy\"],\n",
    "    )\n",
    "    \n",
    "    return model\n",
    "\n",
    "\n",
    "def build_model(hp):\n",
    "    units = hp.Int(\"units\", min_value=16, max_value=128, step=32) # 2^7 : 128\n",
    "    activation = hp.Choice(\"activation\", [\"relu\", \"tanh\"])\n",
    "    dropout = hp.Boolean(\"dropout\")\n",
    "    lr = hp.Float(\"lr\", min_value=1e-6, max_value=1e-2, sampling=\"log\")\n",
    "    # call existing model-building code with the hyperparameter values.\n",
    "    model = call_existing_code(\n",
    "        units=units, activation=activation, dropout=dropout, lr=lr\n",
    "    )\n",
    "    return model\n",
    "\n",
    "\n",
    "build_model(keras_tuner.HyperParameters())"
   ]
  },
  {
   "cell_type": "code",
   "execution_count": 75,
   "id": "inclusive-clinton",
   "metadata": {},
   "outputs": [],
   "source": [
    "tf.keras.backend.clear_session()"
   ]
  },
  {
   "cell_type": "code",
   "execution_count": 77,
   "id": "dimensional-hardwood",
   "metadata": {},
   "outputs": [
    {
     "name": "stdout",
     "output_type": "stream",
     "text": [
      "Trial 90 Complete [00h 00m 44s]\n",
      "val_accuracy: 0.8303065896034241\n",
      "\n",
      "Best val_accuracy So Far: 0.8314782381057739\n",
      "Total elapsed time: 00h 15m 02s\n",
      "INFO:tensorflow:Oracle triggered exit\n",
      "Results summary\n",
      "Results in hyperband-M7\\Animal_shelter\n",
      "Showing 10 best trials\n",
      "Objective(name=\"val_accuracy\", direction=\"max\")\n",
      "\n",
      "Trial 0083 summary\n",
      "Hyperparameters:\n",
      "units: 48\n",
      "activation: relu\n",
      "dropout: False\n",
      "lr: 0.0004508487014229573\n",
      "tuner/epochs: 30\n",
      "tuner/initial_epoch: 10\n",
      "tuner/bracket: 1\n",
      "tuner/round: 1\n",
      "tuner/trial_id: 0081\n",
      "Score: 0.8314782381057739\n",
      "\n",
      "Trial 0089 summary\n",
      "Hyperparameters:\n",
      "units: 48\n",
      "activation: relu\n",
      "dropout: True\n",
      "lr: 0.000483038152387294\n",
      "tuner/epochs: 30\n",
      "tuner/initial_epoch: 0\n",
      "tuner/bracket: 0\n",
      "tuner/round: 0\n",
      "Score: 0.8303065896034241\n",
      "\n",
      "Trial 0072 summary\n",
      "Hyperparameters:\n",
      "units: 112\n",
      "activation: tanh\n",
      "dropout: True\n",
      "lr: 0.0012512429464290153\n",
      "tuner/epochs: 30\n",
      "tuner/initial_epoch: 10\n",
      "tuner/bracket: 2\n",
      "tuner/round: 2\n",
      "tuner/trial_id: 0069\n",
      "Score: 0.8295254707336426\n",
      "\n",
      "Trial 0084 summary\n",
      "Hyperparameters:\n",
      "units: 80\n",
      "activation: relu\n",
      "dropout: True\n",
      "lr: 0.0002261540953868687\n",
      "tuner/epochs: 30\n",
      "tuner/initial_epoch: 10\n",
      "tuner/bracket: 1\n",
      "tuner/round: 1\n",
      "tuner/trial_id: 0078\n",
      "Score: 0.8264011144638062\n",
      "\n",
      "Trial 0051 summary\n",
      "Hyperparameters:\n",
      "units: 48\n",
      "activation: relu\n",
      "dropout: False\n",
      "lr: 0.0014326101994785088\n",
      "tuner/epochs: 30\n",
      "tuner/initial_epoch: 10\n",
      "tuner/bracket: 3\n",
      "tuner/round: 3\n",
      "tuner/trial_id: 0046\n",
      "Score: 0.8262057900428772\n",
      "\n",
      "Trial 0082 summary\n",
      "Hyperparameters:\n",
      "units: 80\n",
      "activation: relu\n",
      "dropout: False\n",
      "lr: 0.0004612663112880568\n",
      "tuner/epochs: 30\n",
      "tuner/initial_epoch: 10\n",
      "tuner/bracket: 1\n",
      "tuner/round: 1\n",
      "tuner/trial_id: 0074\n",
      "Score: 0.8262057900428772\n",
      "\n",
      "Trial 0073 summary\n",
      "Hyperparameters:\n",
      "units: 112\n",
      "activation: relu\n",
      "dropout: False\n",
      "lr: 0.00046243127757325655\n",
      "tuner/epochs: 30\n",
      "tuner/initial_epoch: 10\n",
      "tuner/bracket: 2\n",
      "tuner/round: 2\n",
      "tuner/trial_id: 0067\n",
      "Score: 0.8256199955940247\n",
      "\n",
      "Trial 0050 summary\n",
      "Hyperparameters:\n",
      "units: 48\n",
      "activation: relu\n",
      "dropout: False\n",
      "lr: 0.002391887676576722\n",
      "tuner/epochs: 30\n",
      "tuner/initial_epoch: 10\n",
      "tuner/bracket: 3\n",
      "tuner/round: 3\n",
      "tuner/trial_id: 0048\n",
      "Score: 0.8238625526428223\n",
      "\n",
      "Trial 0048 summary\n",
      "Hyperparameters:\n",
      "units: 48\n",
      "activation: relu\n",
      "dropout: False\n",
      "lr: 0.002391887676576722\n",
      "tuner/epochs: 10\n",
      "tuner/initial_epoch: 4\n",
      "tuner/bracket: 3\n",
      "tuner/round: 2\n",
      "tuner/trial_id: 0038\n",
      "Score: 0.8228861689567566\n",
      "\n",
      "Trial 0074 summary\n",
      "Hyperparameters:\n",
      "units: 80\n",
      "activation: relu\n",
      "dropout: False\n",
      "lr: 0.0004612663112880568\n",
      "tuner/epochs: 10\n",
      "tuner/initial_epoch: 0\n",
      "tuner/bracket: 1\n",
      "tuner/round: 0\n",
      "Score: 0.8228861689567566\n"
     ]
    }
   ],
   "source": [
    "tuner_M2 = keras_tuner.Hyperband(hypermodel=build_model,\n",
    "                     objective='val_accuracy',\n",
    "                     max_epochs=30,\n",
    "                     factor=3,\n",
    "                     directory='hyperband-M7',\n",
    "                     project_name='Animal_shelter')\n",
    "\n",
    "tuner_M2.search_space_summary()\n",
    "\n",
    "tuner_M2.search(X_train, y_train, epochs=30, validation_data=(X_test, y_test), verbose = 1)\n",
    "\n",
    "tuner_M2.results_summary()"
   ]
  },
  {
   "cell_type": "code",
   "execution_count": 81,
   "id": "actual-andrews",
   "metadata": {},
   "outputs": [
    {
     "name": "stdout",
     "output_type": "stream",
     "text": [
      "WARNING:tensorflow:Unresolved object in checkpoint: (root).optimizer.iter\n",
      "WARNING:tensorflow:Unresolved object in checkpoint: (root).optimizer.beta_1\n",
      "WARNING:tensorflow:Unresolved object in checkpoint: (root).optimizer.beta_2\n",
      "WARNING:tensorflow:Unresolved object in checkpoint: (root).optimizer.decay\n",
      "WARNING:tensorflow:Unresolved object in checkpoint: (root).optimizer.learning_rate\n",
      "WARNING:tensorflow:A checkpoint was restored (e.g. tf.train.Checkpoint.restore or tf.keras.Model.load_weights) but not all checkpointed values were used. See above for specific issues. Use expect_partial() on the load status object, e.g. tf.train.Checkpoint.restore(...).expect_partial(), to silence these warnings, or use assert_consumed() to make the check explicit. See https://www.tensorflow.org/guide/checkpoint#loading_mechanics for details.\n",
      "Model: \"sequential\"\n",
      "_________________________________________________________________\n",
      "Layer (type)                 Output Shape              Param #   \n",
      "=================================================================\n",
      "dense (Dense)                (None, 384)               5760      \n",
      "_________________________________________________________________\n",
      "dense_1 (Dense)              (None, 192)               73920     \n",
      "_________________________________________________________________\n",
      "dense_2 (Dense)              (None, 96)                18528     \n",
      "_________________________________________________________________\n",
      "dense_3 (Dense)              (None, 48)                4656      \n",
      "_________________________________________________________________\n",
      "dense_4 (Dense)              (None, 8)                 392       \n",
      "=================================================================\n",
      "Total params: 103,256\n",
      "Trainable params: 103,256\n",
      "Non-trainable params: 0\n",
      "_________________________________________________________________\n"
     ]
    }
   ],
   "source": [
    "# get top model from hyperband\n",
    "models = tuner_M2.get_best_models(num_models=1)\n",
    "Model_2 = models[0]\n",
    "\n",
    "# Build the model.\n",
    "# Needed for `Sequential` without specified `input_shape`.\n",
    "Model_2.build(input_shape=(14,))\n",
    "Model_2.summary()"
   ]
  },
  {
   "cell_type": "code",
   "execution_count": 82,
   "id": "instant-label",
   "metadata": {},
   "outputs": [],
   "source": [
    "tf.keras.backend.clear_session()"
   ]
  },
  {
   "cell_type": "code",
   "execution_count": 83,
   "id": "dense-edward",
   "metadata": {},
   "outputs": [
    {
     "name": "stdout",
     "output_type": "stream",
     "text": [
      "Epoch 1/30\n",
      "641/641 [==============================] - 1s 2ms/step - loss: 0.7467 - accuracy: 0.7405 - val_loss: 0.6550 - val_accuracy: 0.7563\n",
      "Epoch 2/30\n",
      "641/641 [==============================] - 1s 2ms/step - loss: 0.5874 - accuracy: 0.7966 - val_loss: 0.5892 - val_accuracy: 0.7922\n",
      "Epoch 3/30\n",
      "641/641 [==============================] - 1s 2ms/step - loss: 0.5494 - accuracy: 0.8086 - val_loss: 0.5704 - val_accuracy: 0.8020\n",
      "Epoch 4/30\n",
      "641/641 [==============================] - 1s 2ms/step - loss: 0.5227 - accuracy: 0.8177 - val_loss: 0.5615 - val_accuracy: 0.8047\n",
      "Epoch 5/30\n",
      "641/641 [==============================] - 1s 2ms/step - loss: 0.5085 - accuracy: 0.8209 - val_loss: 0.5559 - val_accuracy: 0.8073\n",
      "Epoch 6/30\n",
      "641/641 [==============================] - 1s 2ms/step - loss: 0.4944 - accuracy: 0.8256 - val_loss: 0.5474 - val_accuracy: 0.8051\n",
      "Epoch 7/30\n",
      "641/641 [==============================] - 1s 2ms/step - loss: 0.4787 - accuracy: 0.8316 - val_loss: 0.5391 - val_accuracy: 0.8133\n",
      "Epoch 8/30\n",
      "641/641 [==============================] - 1s 2ms/step - loss: 0.4700 - accuracy: 0.8352 - val_loss: 0.5434 - val_accuracy: 0.8061\n",
      "Epoch 9/30\n",
      "641/641 [==============================] - 1s 2ms/step - loss: 0.4583 - accuracy: 0.8389 - val_loss: 0.5502 - val_accuracy: 0.8114\n",
      "Epoch 10/30\n",
      "641/641 [==============================] - 1s 2ms/step - loss: 0.4491 - accuracy: 0.8404 - val_loss: 0.5477 - val_accuracy: 0.8102\n",
      "Epoch 11/30\n",
      "641/641 [==============================] - 1s 2ms/step - loss: 0.4377 - accuracy: 0.8469 - val_loss: 0.5326 - val_accuracy: 0.8178\n",
      "Epoch 12/30\n",
      "641/641 [==============================] - 1s 2ms/step - loss: 0.4297 - accuracy: 0.8469 - val_loss: 0.5273 - val_accuracy: 0.8184\n",
      "Epoch 13/30\n",
      "641/641 [==============================] - 1s 2ms/step - loss: 0.4202 - accuracy: 0.8495 - val_loss: 0.5243 - val_accuracy: 0.8225\n",
      "Epoch 14/30\n",
      "641/641 [==============================] - 1s 2ms/step - loss: 0.4109 - accuracy: 0.8543 - val_loss: 0.5379 - val_accuracy: 0.8190\n",
      "Epoch 15/30\n",
      "641/641 [==============================] - 1s 2ms/step - loss: 0.4016 - accuracy: 0.8573 - val_loss: 0.5302 - val_accuracy: 0.8260\n",
      "Epoch 16/30\n",
      "641/641 [==============================] - 1s 2ms/step - loss: 0.3935 - accuracy: 0.8596 - val_loss: 0.5261 - val_accuracy: 0.8217\n",
      "Epoch 17/30\n",
      "641/641 [==============================] - 1s 2ms/step - loss: 0.3849 - accuracy: 0.8608 - val_loss: 0.5386 - val_accuracy: 0.8200\n",
      "Epoch 18/30\n",
      "641/641 [==============================] - 1s 2ms/step - loss: 0.3767 - accuracy: 0.8664 - val_loss: 0.5566 - val_accuracy: 0.8092\n",
      "Epoch 19/30\n",
      "641/641 [==============================] - 1s 2ms/step - loss: 0.3756 - accuracy: 0.8643 - val_loss: 0.5473 - val_accuracy: 0.8235\n",
      "Epoch 20/30\n",
      "641/641 [==============================] - 1s 2ms/step - loss: 0.3607 - accuracy: 0.8705 - val_loss: 0.5571 - val_accuracy: 0.8231\n",
      "Epoch 21/30\n",
      "641/641 [==============================] - 1s 2ms/step - loss: 0.3592 - accuracy: 0.8703 - val_loss: 0.5473 - val_accuracy: 0.8178\n",
      "Epoch 22/30\n",
      "641/641 [==============================] - 1s 2ms/step - loss: 0.3436 - accuracy: 0.8771 - val_loss: 0.5549 - val_accuracy: 0.8284\n",
      "Epoch 23/30\n",
      "641/641 [==============================] - 1s 2ms/step - loss: 0.3337 - accuracy: 0.8800 - val_loss: 0.5746 - val_accuracy: 0.8221\n",
      "Epoch 24/30\n",
      "641/641 [==============================] - 1s 2ms/step - loss: 0.3269 - accuracy: 0.8829 - val_loss: 0.5668 - val_accuracy: 0.8244\n",
      "Epoch 25/30\n",
      "641/641 [==============================] - 1s 2ms/step - loss: 0.3218 - accuracy: 0.8820 - val_loss: 0.5778 - val_accuracy: 0.8194\n",
      "Epoch 26/30\n",
      "641/641 [==============================] - 1s 2ms/step - loss: 0.3120 - accuracy: 0.8865 - val_loss: 0.5818 - val_accuracy: 0.8182\n",
      "Epoch 27/30\n",
      "641/641 [==============================] - 1s 2ms/step - loss: 0.3032 - accuracy: 0.8886 - val_loss: 0.5720 - val_accuracy: 0.8219\n",
      "Epoch 28/30\n",
      "641/641 [==============================] - 1s 2ms/step - loss: 0.2967 - accuracy: 0.8922 - val_loss: 0.5852 - val_accuracy: 0.8205\n",
      "Epoch 29/30\n",
      "641/641 [==============================] - 1s 2ms/step - loss: 0.2923 - accuracy: 0.8924 - val_loss: 0.5905 - val_accuracy: 0.8151\n",
      "Epoch 30/30\n",
      "641/641 [==============================] - 1s 2ms/step - loss: 0.2819 - accuracy: 0.8968 - val_loss: 0.6136 - val_accuracy: 0.8147\n",
      "Best epoch: 22\n"
     ]
    }
   ],
   "source": [
    "# Get the optimal hyperparameters\n",
    "best_hps=tuner_M2.get_best_hyperparameters(num_trials=1)[0]\n",
    "\n",
    "# Build the model with the optimal hyperparameters and train it on the data for 50 epochs\n",
    "Model_2 = tuner_M2.hypermodel.build(best_hps)\n",
    "history = Model_2.fit(X_train, y_train, epochs=30, validation_data=(X_test, y_test), verbose = 1)\n",
    "\n",
    "val_acc_per_epoch = history.history['val_accuracy']\n",
    "best_epoch = val_acc_per_epoch.index(max(val_acc_per_epoch)) + 1\n",
    "print('Best epoch: %d' % (best_epoch,))"
   ]
  },
  {
   "cell_type": "code",
   "execution_count": 84,
   "id": "norwegian-favor",
   "metadata": {},
   "outputs": [
    {
     "name": "stdout",
     "output_type": "stream",
     "text": [
      "161/161 [==============================] - 0s 2ms/step - loss: 0.6136 - accuracy: 0.8147\n",
      "Validation Accuracy : 0.8146846294403076\n"
     ]
    }
   ],
   "source": [
    "# Evaluation \n",
    "score = Model_2.evaluate(X_test, y_test)\n",
    "print(\"Validation Accuracy : {}\".format(score[1]))"
   ]
  },
  {
   "cell_type": "code",
   "execution_count": 87,
   "id": "pending-slope",
   "metadata": {},
   "outputs": [
    {
     "data": {
      "text/html": [
       "<div>\n",
       "<style scoped>\n",
       "    .dataframe tbody tr th:only-of-type {\n",
       "        vertical-align: middle;\n",
       "    }\n",
       "\n",
       "    .dataframe tbody tr th {\n",
       "        vertical-align: top;\n",
       "    }\n",
       "\n",
       "    .dataframe thead th {\n",
       "        text-align: right;\n",
       "    }\n",
       "</style>\n",
       "<table border=\"1\" class=\"dataframe\">\n",
       "  <thead>\n",
       "    <tr style=\"text-align: right;\">\n",
       "      <th></th>\n",
       "      <th>loss</th>\n",
       "      <th>accuracy</th>\n",
       "      <th>val_loss</th>\n",
       "      <th>val_accuracy</th>\n",
       "    </tr>\n",
       "  </thead>\n",
       "  <tbody>\n",
       "    <tr>\n",
       "      <th>0</th>\n",
       "      <td>0.746733</td>\n",
       "      <td>0.740491</td>\n",
       "      <td>0.654996</td>\n",
       "      <td>0.756298</td>\n",
       "    </tr>\n",
       "    <tr>\n",
       "      <th>1</th>\n",
       "      <td>0.587390</td>\n",
       "      <td>0.796641</td>\n",
       "      <td>0.589224</td>\n",
       "      <td>0.792228</td>\n",
       "    </tr>\n",
       "    <tr>\n",
       "      <th>2</th>\n",
       "      <td>0.549441</td>\n",
       "      <td>0.808554</td>\n",
       "      <td>0.570382</td>\n",
       "      <td>0.801992</td>\n",
       "    </tr>\n",
       "  </tbody>\n",
       "</table>\n",
       "</div>"
      ],
      "text/plain": [
       "       loss  accuracy  val_loss  val_accuracy\n",
       "0  0.746733  0.740491  0.654996      0.756298\n",
       "1  0.587390  0.796641  0.589224      0.792228\n",
       "2  0.549441  0.808554  0.570382      0.801992"
      ]
     },
     "execution_count": 87,
     "metadata": {},
     "output_type": "execute_result"
    }
   ],
   "source": [
    "df_history = pd.DataFrame(history.history)\n",
    "df_history.head(3)"
   ]
  },
  {
   "cell_type": "code",
   "execution_count": 88,
   "id": "interracial-nitrogen",
   "metadata": {},
   "outputs": [
    {
     "data": {
      "image/png": "[encoded data removed]",
      "text/plain": [
       "<Figure size 864x432 with 1 Axes>"
      ]
     },
     "metadata": {
      "needs_background": "light"
     },
     "output_type": "display_data"
    },
    {
     "data": {
      "image/png": "[encoded data removed]",
      "text/plain": [
       "<Figure size 864x432 with 1 Axes>"
      ]
     },
     "metadata": {
      "needs_background": "light"
     },
     "output_type": "display_data"
    }
   ],
   "source": [
    "epochs = range(len(df_history['loss']))\n",
    "\n",
    "plt.figure(figsize = (12,6))\n",
    "plt.plot(epochs, df_history['loss'], label = 'training loss')\n",
    "plt.plot(epochs, df_history['val_loss'], label = 'validation loss')\n",
    "plt.legend()\n",
    "plt.xlabel(\"Epochs\")\n",
    "plt.ylabel(\"Loss\")\n",
    "plt.title(\"Training vs validation loss\")\n",
    "plt.show()\n",
    "\n",
    "\n",
    "\n",
    "plt.figure(figsize = (12,6))\n",
    "plt.plot(epochs, df_history['accuracy'], label = 'training accuracy')\n",
    "plt.plot(epochs, df_history['val_accuracy'], label = 'validation accuracy')\n",
    "plt.legend(loc = 'best')\n",
    "plt.xlabel(\"Epochs\")\n",
    "plt.ylabel(\"Accuracy\")\n",
    "plt.title(\"Training vs validation accuracy\")\n",
    "plt.show()"
   ]
  },
  {
   "cell_type": "code",
   "execution_count": 89,
   "id": "whole-blank",
   "metadata": {},
   "outputs": [],
   "source": [
    "ypred = Model_2.predict(X_test)\n",
    "ypred = ypred.argmax(axis=-1)"
   ]
  },
  {
   "cell_type": "code",
   "execution_count": 86,
   "id": "cultural-cleanup",
   "metadata": {},
   "outputs": [
    {
     "name": "stdout",
     "output_type": "stream",
     "text": [
      "{'ADOPTION': 0, 'DIED': 1, 'DISPOSAL': 2, 'ESCAPED/STOLEN': 3, 'EUTHANIZE': 4, 'RETURN TO OWNER': 5, 'RTOS': 6, 'TRANSFER': 7}\n"
     ]
    }
   ],
   "source": [
    "le_name_mapping = dict(zip(label_encoder.classes_, label_encoder.transform(label_encoder.classes_)))\n",
    "print(le_name_mapping)"
   ]
  },
  {
   "cell_type": "code",
   "execution_count": 91,
   "id": "educated-philadelphia",
   "metadata": {},
   "outputs": [
    {
     "name": "stdout",
     "output_type": "stream",
     "text": [
      "ROC AUC score: 0.7259995717363369\n"
     ]
    },
    {
     "data": {
      "image/png": "[encoded data removed]",
      "text/plain": [
       "<Figure size 864x576 with 1 Axes>"
      ]
     },
     "metadata": {
      "needs_background": "light"
     },
     "output_type": "display_data"
    }
   ],
   "source": [
    "target= ['ADOPTION', 'DIED', 'DISPOSAL', 'ESCAPED/STOLEN', 'EUTHANIZE', 'RETURN TO OWNER', 'RTOS', 'TRANSFER']\n",
    "\n",
    "# set plot figure size\n",
    "fig, c_ax = plt.subplots(1,1, figsize = (12, 8))\n",
    "\n",
    "# function for scoring roc auc score for multi-class\n",
    "def multiclass_roc_auc_score(y_test, y_pred, average=\"macro\"):\n",
    "    lb = LabelBinarizer()\n",
    "    lb.fit(y_test)\n",
    "    y_test = lb.transform(y_test)\n",
    "    y_pred = lb.transform(y_pred)\n",
    "\n",
    "    for (idx, c_label) in enumerate(target):\n",
    "        fpr, tpr, thresholds = roc_curve(y_test[:,idx].astype(int), y_pred[:,idx])\n",
    "        c_ax.plot(fpr, tpr, label = '%s (AUC:%0.2f)'  % (c_label, auc(fpr, tpr)))\n",
    "    c_ax.plot(fpr, fpr, 'b-', label = 'Random Guessing')\n",
    "    return roc_auc_score(y_test, y_pred, average=average)\n",
    "\n",
    "\n",
    "print('ROC AUC score:', multiclass_roc_auc_score(y_test, ypred))\n",
    "\n",
    "c_ax.legend()\n",
    "c_ax.set_xlabel('False Positive Rate')\n",
    "c_ax.set_ylabel('True Positive Rate')\n",
    "plt.show()"
   ]
  },
  {
   "cell_type": "code",
   "execution_count": 92,
   "id": "extended-gasoline",
   "metadata": {},
   "outputs": [
    {
     "name": "stdout",
     "output_type": "stream",
     "text": [
      "Model saved successfully.\n"
     ]
    }
   ],
   "source": [
    "# Save the model\n",
    "Model_2.save(\"Neural_network.h5\")\n",
    "\n",
    "print(\"Model saved successfully.\")"
   ]
  }
 ],
 "metadata": {
  "kernelspec": {
   "display_name": "Python [conda env:t2.3] *",
   "language": "python",
   "name": "conda-env-t2.3-py"
  },
  "language_info": {
   "codemirror_mode": {
    "name": "ipython",
    "version": 3
   },
   "file_extension": ".py",
   "mimetype": "text/x-python",
   "name": "python",
   "nbconvert_exporter": "python",
   "pygments_lexer": "ipython3",
   "version": "3.7.9"
  }
 },
 "nbformat": 4,
 "nbformat_minor": 5
}
